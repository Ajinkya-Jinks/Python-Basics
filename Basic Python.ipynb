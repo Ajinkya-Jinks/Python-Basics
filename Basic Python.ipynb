{
 "cells": [
  {
   "cell_type": "markdown",
   "metadata": {},
   "source": [
    "# Python from scrach"
   ]
  },
  {
   "cell_type": "code",
   "execution_count": 1,
   "metadata": {},
   "outputs": [
    {
     "name": "stdout",
     "output_type": "stream",
     "text": [
      "Hey...Let's learn Python\n"
     ]
    }
   ],
   "source": [
    "#1\n",
    "print(\"Hey...Let's learn Python\");\n"
   ]
  },
  {
   "cell_type": "code",
   "execution_count": 4,
   "metadata": {},
   "outputs": [
    {
     "name": "stdout",
     "output_type": "stream",
     "text": [
      "Hi Anji...\n",
      "Welcome to Python\n"
     ]
    }
   ],
   "source": [
    "print(\"Hi Anji...\\nWelcome to Python\");"
   ]
  },
  {
   "cell_type": "code",
   "execution_count": 5,
   "metadata": {},
   "outputs": [
    {
     "name": "stdout",
     "output_type": "stream",
     "text": [
      "10\n",
      "20\n",
      "30\n"
     ]
    }
   ],
   "source": [
    "x,y,z = 10,20,30;\n",
    "print(x);\n",
    "print(y);\n",
    "print(z);"
   ]
  },
  {
   "cell_type": "code",
   "execution_count": 16,
   "metadata": {},
   "outputs": [
    {
     "name": "stdout",
     "output_type": "stream",
     "text": [
      "(1, 3, 2)\n",
      "1\n",
      "[13, 14, 15]\n"
     ]
    }
   ],
   "source": [
    "#tuple is immutable object in python.\n",
    "#tuple can store heterogeneous data including list and tuples\n",
    "tup1 = (1,3,\"aj\",\"sam\")\n",
    "tup1\n",
    "#tup1[1]=5\n",
    "tup2 = ((1,3,2),1,[13,14,15])\n",
    "print(tup2[0])\n",
    "print(tup2[1])\n",
    "print(tup2[2])\n"
   ]
  },
  {
   "cell_type": "code",
   "execution_count": 11,
   "metadata": {},
   "outputs": [
    {
     "name": "stdout",
     "output_type": "stream",
     "text": [
      "[1, 2, 3]\n",
      "aj\n",
      "3\n"
     ]
    }
   ],
   "source": [
    "#List\n",
    "ls = [[1,2,3],\"aj\",\"bj\",3,5]\n",
    "print(ls[0])\n",
    "print(ls[1])\n",
    "print(ls[3])"
   ]
  },
  {
   "cell_type": "code",
   "execution_count": 9,
   "metadata": {},
   "outputs": [],
   "source": [
    "#CHECK OUT FOLLOWING\n",
    "#ACCESSING ELEMENTS IN THE LIST WHICH IS PARTH OF ANOTHER LIST"
   ]
  },
  {
   "cell_type": "code",
   "execution_count": 13,
   "metadata": {},
   "outputs": [
    {
     "name": "stdout",
     "output_type": "stream",
     "text": [
      "Aa\n",
      "bd\n",
      "6\n",
      "47\n"
     ]
    }
   ],
   "source": [
    "ls = [1,3,\"Alaska\",(6,47,8),[\"Aa\",\"bd\",5]]\n",
    "print(ls[4][0])\n",
    "print(ls[4][1])\n",
    "#ACCESSING ELEMETNS OF TUPPLE IN THE LIST\n",
    "print(ls[3][0])\n",
    "print(ls[3][1])"
   ]
  },
  {
   "cell_type": "code",
   "execution_count": 23,
   "metadata": {},
   "outputs": [
    {
     "name": "stdout",
     "output_type": "stream",
     "text": [
      "{'Name': 'Aj', 'Age': 24}\n",
      "Aj\n",
      "24\n"
     ]
    }
   ],
   "source": [
    "#Dictionaries\n",
    "#It contains key value pair separated by colon.\n",
    "students = {\"Name\":\"Aj\",\"Age\":24}\n",
    "print(students)\n",
    "print(students[\"Name\"])\n",
    "print(students[\"Age\"])"
   ]
  },
  {
   "cell_type": "code",
   "execution_count": 26,
   "metadata": {},
   "outputs": [
    {
     "name": "stdout",
     "output_type": "stream",
     "text": [
      "{1, 2, 3, 4, 5}\n"
     ]
    }
   ],
   "source": [
    "#Set\n",
    "#Set is unordered collection of unique elemets. It is defined using curly braces.\n",
    "st1 = {1,1,2,2,3,3,4,4,5,5}\n",
    "print(st1)\n",
    "#Set object is not subscriptalble\n",
    "#print(st1[0],st1[2],st1[4])"
   ]
  },
  {
   "cell_type": "code",
   "execution_count": 27,
   "metadata": {},
   "outputs": [
    {
     "name": "stdout",
     "output_type": "stream",
     "text": [
      "False\n",
      "True\n",
      "False\n",
      "True\n"
     ]
    }
   ],
   "source": [
    "print(5 is 4)\n",
    "print(5 is not 4)\n",
    "a = 6\n",
    "b = 8\n",
    "print(a is b)\n",
    "print(a is not b)"
   ]
  },
  {
   "cell_type": "code",
   "execution_count": 29,
   "metadata": {},
   "outputs": [
    {
     "name": "stdout",
     "output_type": "stream",
     "text": [
      "False\n",
      "True\n"
     ]
    }
   ],
   "source": [
    "yoga_day = \"thursday\"\n",
    "today = \"wednesday\"\n",
    "print(today is yoga_day)\n",
    "print(today is not yoga_day)"
   ]
  },
  {
   "cell_type": "markdown",
   "metadata": {},
   "source": [
    "# Conditional statements "
   ]
  },
  {
   "cell_type": "code",
   "execution_count": 5,
   "metadata": {},
   "outputs": [
    {
     "name": "stdout",
     "output_type": "stream",
     "text": [
      "X is equal to 25\n"
     ]
    }
   ],
   "source": [
    "#Be careful about intendation as we don't use any brackets in conditonal statement in python.\n",
    "\n",
    "x = 25\n",
    "if(x < 25):\n",
    "    print(\"X is less than 25\")\n",
    "elif(x > 25):\n",
    "    print(\"X is greater than 25\")\n",
    "else:\n",
    "    print(\"X is equal to 25\")"
   ]
  },
  {
   "cell_type": "markdown",
   "metadata": {},
   "source": [
    "# LOOPS"
   ]
  },
  {
   "cell_type": "markdown",
   "metadata": {},
   "source": [
    "#We have FOR LOOP and WHILE LOOP in Python.\n",
    "\n",
    "#WHILE loop is known as conditional or indefinite loop. They will keep iterating until certain conditions are met.\n",
    "\n",
    "\n"
   ]
  },
  {
   "cell_type": "code",
   "execution_count": 1,
   "metadata": {},
   "outputs": [
    {
     "name": "stdout",
     "output_type": "stream",
     "text": [
      "0\n",
      "1\n",
      "2\n",
      "3\n",
      "4\n",
      "Good Bye\n"
     ]
    }
   ],
   "source": [
    "#See the difference between following implemetation of while loop\n",
    "\n",
    "x = 0\n",
    "while(x<5):\n",
    "    print(x)\n",
    "    x = x + 1\n",
    "print(\"Good Bye\")"
   ]
  },
  {
   "cell_type": "code",
   "execution_count": 2,
   "metadata": {},
   "outputs": [
    {
     "name": "stdout",
     "output_type": "stream",
     "text": [
      "5\n",
      "6\n",
      "7\n",
      "8\n",
      "9\n",
      "10\n",
      "11\n"
     ]
    }
   ],
   "source": [
    "rank = 5\n",
    "while(rank!=12):\n",
    "    print(rank)\n",
    "    rank = rank + 1\n"
   ]
  },
  {
   "cell_type": "markdown",
   "metadata": {},
   "source": [
    "# FOR LOOP (IMPORTANT)"
   ]
  },
  {
   "cell_type": "markdown",
   "metadata": {},
   "source": [
    "#FOR loop repeats a group of statements for a specified number of times.\n",
    "#i.e. IT ITERATES OVER A RANGE"
   ]
  },
  {
   "cell_type": "code",
   "execution_count": 18,
   "metadata": {},
   "outputs": [
    {
     "name": "stdout",
     "output_type": "stream",
     "text": [
      "Apple\n",
      "Banana\n",
      "Orange\n",
      "\n",
      " Aa\n",
      "\n",
      "\n",
      "1\n",
      "3\n",
      "Alaska\n",
      "(6, 47, 8)\n",
      "['Aa', 'bd', 5]\n"
     ]
    }
   ],
   "source": [
    "fruits = [\"Apple\",\"Banana\",\"Orange\"]\n",
    "\n",
    "for i in fruits:\n",
    "    print(i)\n",
    "    \n",
    "ls = [1,3,\"Alaska\",(6,47,8),[\"Aa\",\"bd\",5]]\n",
    "print(\"\\n\",ls[4][0])\n",
    "\n",
    "print(\"\\n\") \n",
    "for j in ls:\n",
    "    print(j)\n",
    "   "
   ]
  },
  {
   "cell_type": "markdown",
   "metadata": {},
   "source": [
    "# USING INPUT STATEMENT"
   ]
  },
  {
   "cell_type": "code",
   "execution_count": 35,
   "metadata": {},
   "outputs": [
    {
     "name": "stdout",
     "output_type": "stream",
     "text": [
      "Enter your name:aj\n",
      "Enter your age:24\n",
      "Hi aj your age after 5 years will be 29\n"
     ]
    }
   ],
   "source": [
    "name = input(\"Enter your name:\")\n",
    "age = eval(input(\"Enter your age:\"))\n",
    "print(\"Hi\",name,\"your age after 5 years will be\",age+5)"
   ]
  },
  {
   "cell_type": "markdown",
   "metadata": {},
   "source": [
    "# sequence opration in python"
   ]
  },
  {
   "cell_type": "markdown",
   "metadata": {},
   "source": [
    "# 1. LIST"
   ]
  },
  {
   "cell_type": "code",
   "execution_count": 13,
   "metadata": {},
   "outputs": [
    {
     "name": "stdout",
     "output_type": "stream",
     "text": [
      "Banana\n",
      "['Apple', 'Banana', 'Pineapple', 'Orange', 'Papaya']\n",
      "Pineapple\n",
      "['Apple', 'Grapes', 'Pineapple']\n",
      "['Grapes', 'Pineapple']\n",
      "[1, 2, 3, 4, 5, 6, 7]\n",
      "2\n",
      "[1, 3, 4, 5, 6, 7]\n",
      "None\n"
     ]
    }
   ],
   "source": [
    "ls = [\"Apple\",\"Banana\",\"Pineapple\"]\n",
    "print(ls[1])\n",
    "print(ls + [\"Orange\",\"Papaya\"])\n",
    "print(ls[-1])\n",
    "ls[1]=\"Grapes\"\n",
    "print(ls)\n",
    "\n",
    "#del element from specified index position\n",
    "del(ls[0])\n",
    "print(ls)\n",
    "\n",
    "#removing elements from the list using pop\n",
    "#it removes the element and return it\n",
    "ls2 = [1,2,3,4,5,6,7]\n",
    "print(ls2)\n",
    "print(ls2.pop(1))\n",
    "print(ls2)\n",
    "\n",
    "#remove using REMOVE function.\n",
    "#it removes the element but does not return it.\n",
    "print(ls2.remove(6))"
   ]
  },
  {
   "cell_type": "code",
   "execution_count": 15,
   "metadata": {
    "scrolled": true
   },
   "outputs": [
    {
     "name": "stdout",
     "output_type": "stream",
     "text": [
      "[1, 4, 9, 16, 25]\n",
      "[1, 4, 9, 16, 25]\n"
     ]
    }
   ],
   "source": [
    "#appending into the list\n",
    "#append is used to add single element one by one into the list\n",
    "ls3 = []\n",
    "for x in [1,2,3,4,5]:\n",
    "    ls3.append(x**2)\n",
    "print(ls3)\n",
    "\n",
    "#above can be written in one line\n",
    "#This is basically creating a list\n",
    "ls4 = [x**2 for x in [1,2,3,4,5]]\n",
    "print(ls4)    "
   ]
  },
  {
   "cell_type": "code",
   "execution_count": 18,
   "metadata": {},
   "outputs": [
    {
     "name": "stdout",
     "output_type": "stream",
     "text": [
      "['a', 'b', 'c', 'd']\n"
     ]
    }
   ],
   "source": [
    "#EXTEND\n",
    "#EXTEND is used to add TWO LISTS in the list.\n",
    "\n",
    "ls5 = [\"a\",\"b\"]\n",
    "ls5.extend([\"c\",\"d\"])\n",
    "print(ls5)\n",
    "\n"
   ]
  },
  {
   "cell_type": "code",
   "execution_count": 4,
   "metadata": {},
   "outputs": [
    {
     "name": "stdout",
     "output_type": "stream",
     "text": [
      "[10, 1, 2, 3, 4, 5]\n"
     ]
    }
   ],
   "source": [
    "#INSERT\n",
    "#It will insert the value into the specified position but do NOT REPLACE the value at that location.\n",
    "ls6 = [1,2,3,4,5]\n",
    "ls6.insert(0,10)\n",
    "print(ls6)"
   ]
  },
  {
   "cell_type": "code",
   "execution_count": 6,
   "metadata": {},
   "outputs": [
    {
     "name": "stdout",
     "output_type": "stream",
     "text": [
      "['Audi', 'Abc', 'Maruti', 'BMW']\n"
     ]
    }
   ],
   "source": [
    "#REMOVE\n",
    "#it removes the specified element\n",
    "\n",
    "\n",
    "#ls6.remove(3)\n",
    "#print(ls6)\n",
    "\n",
    "#element name should be as it is...It is case sensitive.\n",
    "ls8 = [\"Audi\",\"Toyota\",\"Abc\",\"Maruti\",\"BMW\"]\n",
    "ls8.remove(\"Toyota\")\n",
    "print(ls8)"
   ]
  },
  {
   "cell_type": "code",
   "execution_count": 19,
   "metadata": {},
   "outputs": [
    {
     "name": "stdout",
     "output_type": "stream",
     "text": [
      "['Abc', 'Audi', 'BMW', 'Maruti']\n",
      "['Ashish', 'Dev', 'Ram', 'Rohan', 'Shyam']\n",
      "Maruti\n",
      "BMW\n",
      "Audi\n",
      "Abc\n",
      "['Abc', 'Audi', 'BMW', 'Maruti']\n"
     ]
    }
   ],
   "source": [
    "#SORT\n",
    "ls8.sort()\n",
    "print(ls8)\n",
    "\n",
    "lis = [\"Shyam\",\"Rohan\",\"Ashish\",\"Ram\",\"Dev\"]\n",
    "print(sorted(lis))\n",
    "\n",
    "#Reversing the list\n",
    "for car in ls8[::-1]:\n",
    "    print(car)\n",
    "    \n",
    "print(ls8) \n",
    "#here we notice that after reversing the orignal list remains the same. It is better than .sort when we dont't want\n",
    "#to disturb orignal list."
   ]
  },
  {
   "cell_type": "markdown",
   "metadata": {},
   "source": [
    "# 2.TUPLE"
   ]
  },
  {
   "cell_type": "code",
   "execution_count": 7,
   "metadata": {},
   "outputs": [
    {
     "name": "stdout",
     "output_type": "stream",
     "text": [
      "6\n",
      "592\n",
      "2 \n",
      "\n",
      "[2, 5, 89, 92, 123, 592] \n",
      "\n",
      "2\n",
      "5\n",
      "592\n",
      "123\n",
      "92\n",
      "89\n"
     ]
    }
   ],
   "source": [
    "#Tuple is collection of heterogeneous elements.\n",
    "#Tuple is IMMUTABLE i.e. the values in the tuple cannot be changed\n",
    "#Tuple is faster than any other object in python.\n",
    "#Tuple is used when we don't want anyone to change the values e.g. the value of pie and for faster execution.\n",
    "\n",
    "tup = (1,3,4,\"Mumbai\",\"Pune\",\"Satara\")\n",
    "tup2 = (89,92,123,592,5,2)\n",
    "print(len(tup))\n",
    "print(max(tup2))\n",
    "print(min(tup2),\"\\n\")\n",
    "\n",
    "\n",
    "#SORTING AND REVERSING ARE DONE SIMILAR TO LIST\n",
    "print(sorted(tup2),\"\\n\")\n",
    "for rev in tup2[::-1]:\n",
    "    print(rev)"
   ]
  },
  {
   "cell_type": "code",
   "execution_count": 9,
   "metadata": {},
   "outputs": [
    {
     "name": "stdout",
     "output_type": "stream",
     "text": [
      "(1, 2, 3, 4, 5, 6) \n",
      "\n",
      "(1, 2, 3, 4, 5, 6, 7, 8, 9, 10, 11) \n",
      "\n",
      "(1, 2, 3, 4, 5, 6, 7, 8, 9, 10, 11)\n"
     ]
    }
   ],
   "source": [
    "#UPDATING TUPLE\n",
    "\n",
    "tupl1 = (1,2,3,4,5,6)\n",
    "print(tupl1,\"\\n\")\n",
    "tupl2 = (7,8,9,10,11)\n",
    "\n",
    "tupl4 = tupl1 + tupl2\n",
    "print(tupl4,\"\\n\")\n",
    "\n",
    "#check out this\n",
    "tupl1 = tupl1 + tupl2\n",
    "print(tupl1)\n"
   ]
  },
  {
   "cell_type": "code",
   "execution_count": 10,
   "metadata": {},
   "outputs": [
    {
     "ename": "NameError",
     "evalue": "name 'tupl2' is not defined",
     "output_type": "error",
     "traceback": [
      "\u001b[1;31m---------------------------------------------------------------------------\u001b[0m",
      "\u001b[1;31mNameError\u001b[0m                                 Traceback (most recent call last)",
      "\u001b[1;32m<ipython-input-10-395d16da7c97>\u001b[0m in \u001b[0;36m<module>\u001b[1;34m\u001b[0m\n\u001b[0;32m      1\u001b[0m \u001b[1;32mdel\u001b[0m\u001b[1;33m(\u001b[0m\u001b[0mtupl2\u001b[0m\u001b[1;33m)\u001b[0m\u001b[1;33m\u001b[0m\u001b[1;33m\u001b[0m\u001b[0m\n\u001b[1;32m----> 2\u001b[1;33m \u001b[0mprint\u001b[0m\u001b[1;33m(\u001b[0m\u001b[0mtupl2\u001b[0m\u001b[1;33m)\u001b[0m\u001b[1;31m#the error means the tuple is deleted.\u001b[0m\u001b[1;33m\u001b[0m\u001b[1;33m\u001b[0m\u001b[0m\n\u001b[0m",
      "\u001b[1;31mNameError\u001b[0m: name 'tupl2' is not defined"
     ]
    }
   ],
   "source": [
    "del(tupl2)\n",
    "print(tupl2)#the error means the tuple is deleted."
   ]
  },
  {
   "cell_type": "code",
   "execution_count": 11,
   "metadata": {},
   "outputs": [
    {
     "name": "stdout",
     "output_type": "stream",
     "text": [
      "['a', 'b', 'c'] \n",
      "\n",
      "a \n",
      "\n",
      "([1, 2, 4], ['a', 'b', 'c'], ['rj', 'dj', 'mj']) \n",
      "\n"
     ]
    }
   ],
   "source": [
    "#Tuple containing list\n",
    "\n",
    "tuplis = ([1,2,3],[\"a\",\"b\",\"c\"],[\"rj\",\"dj\",\"mj\"])\n",
    "print(tuplis[1],\"\\n\")\n",
    "print(tuplis[1][0],\"\\n\")\n",
    "\n",
    "#Updating tuple\n",
    "#here we are actually updating the list(which is mutable) which is element of tuple not the element of the tuple.\n",
    "tuplis[0][2]  = 4\n",
    "print(tuplis,\"\\n\")"
   ]
  },
  {
   "cell_type": "code",
   "execution_count": 4,
   "metadata": {},
   "outputs": [
    {
     "ename": "NameError",
     "evalue": "name 'tuplis' is not defined",
     "output_type": "error",
     "traceback": [
      "\u001b[1;31m---------------------------------------------------------------------------\u001b[0m",
      "\u001b[1;31mNameError\u001b[0m                                 Traceback (most recent call last)",
      "\u001b[1;32m<ipython-input-4-dd1fb1721f54>\u001b[0m in \u001b[0;36m<module>\u001b[1;34m\u001b[0m\n\u001b[1;32m----> 1\u001b[1;33m \u001b[0mtuplis\u001b[0m\u001b[1;33m[\u001b[0m\u001b[1;36m0\u001b[0m\u001b[1;33m]\u001b[0m \u001b[1;33m=\u001b[0m \u001b[1;36m1234\u001b[0m \u001b[1;31m# this will not work as tuple is immutable\u001b[0m\u001b[1;33m\u001b[0m\u001b[1;33m\u001b[0m\u001b[0m\n\u001b[0m",
      "\u001b[1;31mNameError\u001b[0m: name 'tuplis' is not defined"
     ]
    }
   ],
   "source": [
    "tuplis[0] = 1234 # this will not work as tuple is immutable"
   ]
  },
  {
   "cell_type": "code",
   "execution_count": 43,
   "metadata": {},
   "outputs": [
    {
     "name": "stdout",
     "output_type": "stream",
     "text": [
      "[1, 2, 5, 6, 'aj', 'bj', 'dj']\n"
     ]
    }
   ],
   "source": [
    "#converting tuple into the list\n",
    "tupconv = (1,2,5,6,\"aj\",\"bj\",\"dj\")\n",
    "lstup = list(tupconv)\n",
    "print(lstup)\n",
    "# and vice versa is also possible"
   ]
  },
  {
   "cell_type": "markdown",
   "metadata": {},
   "source": [
    "\n",
    "# Strings"
   ]
  },
  {
   "cell_type": "code",
   "execution_count": 15,
   "metadata": {
    "scrolled": true
   },
   "outputs": [
    {
     "name": "stdout",
     "output_type": "stream",
     "text": [
      "Enter your name:aj\n",
      "Hi aj How are you \n",
      "\n",
      "Hi  aj  You are learning Python \n",
      "\n",
      "Hi aj are you enjoying Python?\n",
      "Aj\n",
      "b'aj'\n"
     ]
    }
   ],
   "source": [
    "#strings are written using quotes\n",
    "string = \"Python\"\n",
    "name = input(\"Enter your name:\")\n",
    "print(\"Hi \" +name+\" How are you\",\"\\n\")\n",
    "\n",
    "#OR\n",
    "print(\"Hi \",name,\" You are learning\",string,\"\\n\")\n",
    "\n",
    "#OR USING DOT FORMAT\n",
    "print(\"Hi {} are you enjoying {}?\".format(name,string))\n",
    "\n",
    "#to know more functions \n",
    "#string.(press tab)\n",
    "print(name.capitalize())\n",
    "\n",
    "#encoding format\n",
    "s = name.encode(\"utf-8\",'strict')\n",
    "print(s)\n"
   ]
  },
  {
   "cell_type": "code",
   "execution_count": 17,
   "metadata": {},
   "outputs": [
    {
     "name": "stdout",
     "output_type": "stream",
     "text": [
      "0\n",
      "-1\n",
      "--u--nited Nations\n"
     ]
    }
   ],
   "source": [
    "#replace\n",
    "\n",
    "newstr = \"United Nations\"\n",
    "print(newstr.find('U'))\n",
    "print(newstr.find('u'))\n",
    "\n",
    "a=newstr.replace(\"U\",\"--u--\",1)\n",
    "print(a)"
   ]
  },
  {
   "cell_type": "markdown",
   "metadata": {},
   "source": [
    "# SET"
   ]
  },
  {
   "cell_type": "code",
   "execution_count": 77,
   "metadata": {},
   "outputs": [
    {
     "name": "stdout",
     "output_type": "stream",
     "text": [
      "{'c', 'H', ' ', 'n', 'e', 'o', 'i', 'P', 'm', 'y', 'h', 'l', 'w', 't'}\n",
      "{1, 2, 33, 4, 5, 3, 22}\n"
     ]
    }
   ],
   "source": [
    "#SET is unordered collection of unique items.\n",
    "#SET is used when we want the unique values from the string or integers from the sequence.\n",
    "s1 = set(\"Hi welcome to Python\")\n",
    "print(s1)\n",
    "\n",
    "s2 = {1,22,2,2,2,4,4,5,5,33,3,3,3}\n",
    "print(s2)\n",
    "\n"
   ]
  },
  {
   "cell_type": "markdown",
   "metadata": {},
   "source": [
    "# Set Operations"
   ]
  },
  {
   "cell_type": "code",
   "execution_count": 21,
   "metadata": {},
   "outputs": [
    {
     "name": "stdout",
     "output_type": "stream",
     "text": [
      "{1, 3, 4, 5, 6, 7, 9, 10} \n",
      "\n",
      "{1, 3} \n",
      "\n",
      "{4, 5, 6, 7} \n",
      "\n",
      "{9, 10} \n",
      "\n",
      "False\n",
      "{1, 3, 9, 10, 1111} \n",
      "\n",
      "{3, 9, 10, 1111} \n",
      "\n",
      "{3, 9, 10, 1111}\n"
     ]
    }
   ],
   "source": [
    "#Union\n",
    "\n",
    "st1 = {1,3,3,4,5,6,6,7}\n",
    "st2 = {1,3,9,10}\n",
    "\n",
    "uni = (st1 | st2)\n",
    "print(uni,\"\\n\")\n",
    "\n",
    "#Intersection\n",
    "inter = (st1 & st2)\n",
    "print(inter,\"\\n\")\n",
    "\n",
    "#Substraction\n",
    "sub = (st1 - st2)\n",
    "print(sub,\"\\n\")\n",
    "\n",
    "sub2 = (st2 - st1)\n",
    "print(sub2,\"\\n\")\n",
    "\n",
    "print(st1.issubset(st2))\n",
    "\n",
    "#adding element\n",
    "st2.add(1111)\n",
    "print(st2,\"\\n\")\n",
    "\n",
    "#removing element\n",
    "st2.remove(1)\n",
    "print(st2,\"\\n\")\n"
   ]
  },
  {
   "cell_type": "code",
   "execution_count": 23,
   "metadata": {},
   "outputs": [
    {
     "name": "stdout",
     "output_type": "stream",
     "text": [
      "{3, 9, 10, 1111}\n"
     ]
    }
   ],
   "source": [
    "#discard() removes element only if present\n",
    "#doesn't through any error if element to be remved is not present\n",
    "st2.discard(6)\n",
    "print(st2)"
   ]
  },
  {
   "cell_type": "code",
   "execution_count": 22,
   "metadata": {},
   "outputs": [
    {
     "name": "stdout",
     "output_type": "stream",
     "text": [
      "{3, 9, 10, 1111}\n"
     ]
    },
    {
     "ename": "KeyError",
     "evalue": "4",
     "output_type": "error",
     "traceback": [
      "\u001b[1;31m---------------------------------------------------------------------------\u001b[0m",
      "\u001b[1;31mKeyError\u001b[0m                                  Traceback (most recent call last)",
      "\u001b[1;32m<ipython-input-22-2a5145b3d927>\u001b[0m in \u001b[0;36m<module>\u001b[1;34m\u001b[0m\n\u001b[0;32m      4\u001b[0m \u001b[0mprint\u001b[0m\u001b[1;33m(\u001b[0m\u001b[0mst2\u001b[0m\u001b[1;33m)\u001b[0m\u001b[1;33m\u001b[0m\u001b[1;33m\u001b[0m\u001b[0m\n\u001b[0;32m      5\u001b[0m \u001b[1;33m\u001b[0m\u001b[0m\n\u001b[1;32m----> 6\u001b[1;33m \u001b[0mst2\u001b[0m\u001b[1;33m.\u001b[0m\u001b[0mremove\u001b[0m\u001b[1;33m(\u001b[0m\u001b[1;36m4\u001b[0m\u001b[1;33m)\u001b[0m \u001b[1;31m#see remove is showing error as element is not present but discard is not showing any error\u001b[0m\u001b[1;33m\u001b[0m\u001b[1;33m\u001b[0m\u001b[0m\n\u001b[0m\u001b[0;32m      7\u001b[0m \u001b[0mprint\u001b[0m\u001b[1;33m(\u001b[0m\u001b[0mst2\u001b[0m\u001b[1;33m)\u001b[0m\u001b[1;33m\u001b[0m\u001b[1;33m\u001b[0m\u001b[0m\n",
      "\u001b[1;31mKeyError\u001b[0m: 4"
     ]
    }
   ],
   "source": [
    "\n",
    "st2.remove(4) #see remove is showing error as element is not present but discard is not showing any error\n",
    "print(st2)"
   ]
  },
  {
   "cell_type": "markdown",
   "metadata": {},
   "source": [
    "# DICTIONARIES"
   ]
  },
  {
   "cell_type": "code",
   "execution_count": 27,
   "metadata": {},
   "outputs": [
    {
     "name": "stdout",
     "output_type": "stream",
     "text": [
      "{'name': 'Ram', 'Roll_no': 101, 'Branch': 'IT'} \n",
      "\n",
      "Ram\n",
      "IT\n",
      "101\n",
      "Ram \n",
      "\n",
      "{'name': 'Ram', 'Roll_no': 102, 'Branch': 'IT'} \n",
      "\n",
      "{'name': 'Ram', 'Roll_no': 102} \n",
      "\n",
      "2\n",
      "{'name': 'Ram', 'Roll_no': 102}\n",
      "<class 'dict'> \n",
      "\n",
      "dict_keys(['name', 'Roll_no'])\n",
      "dict_items([('name', 'Ram'), ('Roll_no', 102)])\n"
     ]
    }
   ],
   "source": [
    "#Dictionay is unordered collection of key value pair. It is generally used when we have huge volume of data.\n",
    "\n",
    "#KEY name are case sensitive...\n",
    "dict = {\"name\":\"Ram\",\"Roll_no\":101,\"Branch\":\"IT\"}\n",
    "print(dict,\"\\n\")\n",
    "\n",
    "#following is not working   \n",
    "#print(dict[1])\n",
    "\n",
    "print(dict[\"name\"])\n",
    "print(dict[\"Branch\"])\n",
    "print(dict[\"Roll_no\"])\n",
    "print(dict[\"name\"],\"\\n\")\n",
    "\n",
    "#Updating Dictionary\n",
    "dict[\"Roll_no\"] = 102\n",
    "print(dict,\"\\n\")\n",
    "\n",
    "#Deleting element\n",
    "del(dict[\"Branch\"])\n",
    "print(dict,\"\\n\")\n",
    "\n",
    "#Knowing about dictionary\n",
    "print(len(dict))\n",
    "print(str(dict))\n",
    "print(type(dict),\"\\n\")\n",
    "\n",
    "#Printing all keys and items in the dictionary\n",
    "print(dict.keys())\n",
    "print(dict.items())\n",
    "\n",
    "#and many for fuctions can be found usding dict.(press tab)"
   ]
  },
  {
   "cell_type": "code",
   "execution_count": 28,
   "metadata": {},
   "outputs": [
    {
     "name": "stdout",
     "output_type": "stream",
     "text": [
      "{'cust_name': ['Aman', 'Raj', 'Sameer', 'Rohan'], 'cust_id': [101, 102, 103, 104]} \n",
      "\n",
      "dict_keys(['cust_name', 'cust_id']) \n",
      "\n",
      "dict_items([('cust_name', ['Aman', 'Raj', 'Sameer', 'Rohan']), ('cust_id', [101, 102, 103, 104])]) \n",
      "\n",
      "[101, 102, 103, 104]\n"
     ]
    }
   ],
   "source": [
    "#Dictionary can contain list, tuples etc\n",
    "dict2 = {\"cust_name\":[\"Aman\",\"Raj\",\"Sameer\",\"Rohan\"],\"cust_id\":[101,102,103,104]}\n",
    "print(dict2,\"\\n\")\n",
    "print(dict2.keys(),\"\\n\")\n",
    "print(dict2.items(),\"\\n\")\n",
    "print(dict2[\"cust_id\"])"
   ]
  },
  {
   "cell_type": "markdown",
   "metadata": {},
   "source": [
    "# FUCTION AND OOPS"
   ]
  },
  {
   "cell_type": "code",
   "execution_count": 124,
   "metadata": {},
   "outputs": [
    {
     "name": "stdout",
     "output_type": "stream",
     "text": [
      "120\n"
     ]
    }
   ],
   "source": [
    "#finding factorial of num (basic program)\n",
    "num = 5\n",
    "factorial = 1\n",
    "for i in range(1,num+1):\n",
    "    factorial = factorial * i\n",
    "\n",
    "print(factorial)"
   ]
  },
  {
   "cell_type": "code",
   "execution_count": 128,
   "metadata": {},
   "outputs": [
    {
     "name": "stdout",
     "output_type": "stream",
     "text": [
      "Enter the num:5\n",
      "The factorial of given num is: 120\n"
     ]
    }
   ],
   "source": [
    "#finding factorial of a number given by the user\n",
    "num = eval(input(\"Enter the num:\"))\n",
    "fact = 1\n",
    "if num < 0:\n",
    "    print(\"You should enter positive num!!!\")\n",
    "elif num==0:\n",
    "    print(\"The factorial of 0 is 1\")\n",
    "else:\n",
    "    for i in range(1,num+1):\n",
    "        fact = fact * i\n",
    "    print(\"The factorial of given num is:\",fact)        "
   ]
  },
  {
   "cell_type": "raw",
   "metadata": {},
   "source": [
    "#A FUCNTION IS A BLOCK OF ORGANISE AND USABLE CODE THAT IS USED TO PERFORM A SINGLE AND RELATED ACTION"
   ]
  },
  {
   "cell_type": "code",
   "execution_count": 4,
   "metadata": {},
   "outputs": [
    {
     "name": "stdout",
     "output_type": "stream",
     "text": [
      "11\n",
      "19\n"
     ]
    }
   ],
   "source": [
    "#Simple example of a fuction\n",
    "def add(a,b):\n",
    "    sum = a + b\n",
    "    return sum\n",
    "\n",
    "print(add(3,8))\n",
    "print(add(9,10))\n"
   ]
  },
  {
   "cell_type": "markdown",
   "metadata": {},
   "source": [
    "#return statement terminates the execution of a fuction and returns control to the calling funtion and returns the output."
   ]
  },
  {
   "cell_type": "markdown",
   "metadata": {},
   "source": [
    "# Builtin Functions"
   ]
  },
  {
   "cell_type": "markdown",
   "metadata": {},
   "source": [
    "\n",
    "#Builtin functions are the functions which are already built into python and can be accessed by end user."
   ]
  },
  {
   "cell_type": "code",
   "execution_count": 10,
   "metadata": {},
   "outputs": [
    {
     "name": "stdout",
     "output_type": "stream",
     "text": [
      "True\n",
      "True\n",
      "False\n",
      "False\n"
     ]
    }
   ],
   "source": [
    "#some of the inbuilt functions\n",
    "print(all([1,2,4]))\n",
    "#it returns true if all the values are true else returns false\n",
    "print(all([1,23,3,\"aj\"]))\n",
    "print(all([1,2,None]))\n",
    "print(all([1,2,False]))"
   ]
  },
  {
   "cell_type": "code",
   "execution_count": 23,
   "metadata": {},
   "outputs": [
    {
     "name": "stdout",
     "output_type": "stream",
     "text": [
      "{\n"
     ]
    }
   ],
   "source": [
    "#chr() fuction\n",
    "#It takes the interger value and prints the characher related to that ASCI value.\n",
    "print(chr(123))\n",
    "\n",
    "#FOLLOWING DOESN'T WORK AS \n",
    "#print(chr([65,67]))\n",
    "#print(chr((65,67)))"
   ]
  },
  {
   "cell_type": "code",
   "execution_count": 22,
   "metadata": {
    "scrolled": true
   },
   "outputs": [
    {
     "name": "stdout",
     "output_type": "stream",
     "text": [
      "0b101\n"
     ]
    }
   ],
   "source": [
    "#bin() function\n",
    "#bin () converts any no into binary prefixed with \"0b\"\n",
    "\n",
    "print(bin(5))\n",
    "#print(bin([100,200]))   SEE THIS DOESN'T WORK"
   ]
  },
  {
   "cell_type": "code",
   "execution_count": 27,
   "metadata": {},
   "outputs": [
    {
     "name": "stdout",
     "output_type": "stream",
     "text": [
      "9\n"
     ]
    }
   ],
   "source": [
    "#EVAL() FUNCTION\n",
    "#It executes whatever we have returned in the string and passes it as a parameter. It executes it like a python code.\n",
    "eval(\"print(4+5)\")\n",
    "#watch description in the video 2:03"
   ]
  },
  {
   "cell_type": "markdown",
   "metadata": {},
   "source": [
    "#ENUMERATE() FUNCTION\n",
    "#It enumerates the object.\n",
    "#iterabel must be sequence, an iterator or a object which supports interation."
   ]
  },
  {
   "cell_type": "code",
   "execution_count": 29,
   "metadata": {},
   "outputs": [
    {
     "name": "stdout",
     "output_type": "stream",
     "text": [
      "[(0, 'Milk'), (1, 'Bread'), (2, 'Sugar'), (3, 'Butter')] \n",
      "\n",
      "<class 'enumerate'>\n"
     ]
    }
   ],
   "source": [
    "grossary = [\"Milk\",\"Bread\",\"Sugar\",\"Butter\"]\n",
    "enum = enumerate(grossary)\n",
    "print(list(enum),\"\\n\")\n",
    "print(type(enum))"
   ]
  },
  {
   "cell_type": "markdown",
   "metadata": {},
   "source": [
    "# Lambda function"
   ]
  },
  {
   "cell_type": "code",
   "execution_count": 34,
   "metadata": {},
   "outputs": [
    {
     "data": {
      "text/plain": [
       "16"
      ]
     },
     "execution_count": 34,
     "metadata": {},
     "output_type": "execute_result"
    }
   ],
   "source": [
    "#it is basically very function which are used for very small operations and quick process.\n",
    "ans = (lambda z:z*4)\n",
    "ans(4)"
   ]
  },
  {
   "cell_type": "code",
   "execution_count": 7,
   "metadata": {},
   "outputs": [
    {
     "name": "stdout",
     "output_type": "stream",
     "text": [
      "[1, 4, 9, 16]\n"
     ]
    }
   ],
   "source": [
    "# Main use of lamda function\n",
    "# It allows you to pass other function... a function as a parameter\n",
    "# See MAP, FILTER AND REDUCE\n",
    "# Python map() function is used to apply a function on all the elements of specified iterable and return map object.\n",
    "\n",
    "items = [1,2,3,4]\n",
    "squared = list(map(lambda x: x**2,items))\n",
    "print(squared)"
   ]
  },
  {
   "cell_type": "markdown",
   "metadata": {},
   "source": [
    " Lambda allows you to pass out other function.. a function as a parameter. "
   ]
  },
  {
   "cell_type": "code",
   "execution_count": 11,
   "metadata": {},
   "outputs": [
    {
     "name": "stdout",
     "output_type": "stream",
     "text": [
      "[1, 2]\n",
      "[True, True, False, False, False]\n",
      "24\n"
     ]
    }
   ],
   "source": [
    "#filter\n",
    "\n",
    "items = [1,2,3,4,5]\n",
    "out = list(filter(lambda x:x<3, items))\n",
    "print(out)\n",
    "\n",
    "#check out the difference\n",
    "\n",
    "items = [1,2,3,4,5]\n",
    "out = list(map(lambda x:x<3, items))\n",
    "print(out)\n",
    "\n",
    "\n",
    "#REDUCE\n",
    "#it takes a list and apply oprations on it.Then it basically gives a final single output.\n",
    "\n",
    "from functools import reduce\n",
    "output = reduce(lambda x,y : x * y, [1,2,3,4])\n",
    "print(output)\n"
   ]
  },
  {
   "cell_type": "markdown",
   "metadata": {},
   "source": [
    "# SCOPE OF VARAIBLES IN PYTHON"
   ]
  },
  {
   "cell_type": "raw",
   "metadata": {},
   "source": [
    "#1. Global Variables: The variables which are not declared in the function(which are outside the fucntion) and can be used\n",
    "#   anywhere in the program.\n",
    "\n",
    "#2. Local Variables: The variables which are decalred within the fuction and can be used only wthin the function."
   ]
  },
  {
   "cell_type": "code",
   "execution_count": 16,
   "metadata": {},
   "outputs": [
    {
     "name": "stdout",
     "output_type": "stream",
     "text": [
      "The sum is: 15\n",
      "140733481128896 140733481129056 140733481129216\n"
     ]
    }
   ],
   "source": [
    "#TO KNOW THE MEMORY ADDRESS OF THE VARIABLE WE HAVE ID() FUNCTION\n",
    "\n",
    "a = 5\n",
    "b = 10 \n",
    "s = a+b\n",
    "print(\"The sum is:\",s)\n",
    "print(id(a), id(b), id(s))\n"
   ]
  },
  {
   "cell_type": "markdown",
   "metadata": {},
   "source": [
    "# PASSING ARGUMENTS TO THE FUCTIION"
   ]
  },
  {
   "cell_type": "code",
   "execution_count": 19,
   "metadata": {},
   "outputs": [
    {
     "name": "stdout",
     "output_type": "stream",
     "text": [
      "Employee Name: Sameer\n",
      "Employee Salary: 10000\n",
      "Employee age: 25\n",
      "Employee Name: Mayur\n",
      "Employee Salary: 45000\n",
      "Employee age: 45\n"
     ]
    }
   ],
   "source": [
    "def info(name,age,salary=10000):\n",
    "    print(\"Employee Name:\",name)\n",
    "    print(\"Employee Salary:\",salary)\n",
    "    print(\"Employee age:\",age)\n",
    "    \n",
    "info(\"Sameer\",25)  \n",
    "info(name = \"Mayur\",salary = 45000, age = 45)\n",
    "    "
   ]
  },
  {
   "cell_type": "markdown",
   "metadata": {},
   "source": [
    "# IMPORTAT POINTS TO REMEMBER"
   ]
  },
  {
   "cell_type": "raw",
   "metadata": {},
   "source": [
    "Sometimes we may not know how many parameters/arguments are required and might need variable length of argument where we can \n",
    "pass it n number of arguments e.g. Calculator\n",
    "To handle such cases we use star(*) operator"
   ]
  },
  {
   "cell_type": "code",
   "execution_count": 30,
   "metadata": {},
   "outputs": [
    {
     "name": "stdout",
     "output_type": "stream",
     "text": [
      "Python user is:\n",
      "Ram\n",
      "Python users received from variable length argument:\n",
      "Sita\n",
      "Laxman\n",
      "Hanuman\n"
     ]
    }
   ],
   "source": [
    "def infouser (user,*users):\n",
    "    print(\"Python user is:\")\n",
    "    print(user)\n",
    "    print(\"Python users received from variable length argument:\")\n",
    "    for var in users:\n",
    "        print(var)\n",
    "        \n",
    "#OR\n",
    "'''def infouser (user,*users):\n",
    "    print(\"Python user is:\")\n",
    "    print(user)\n",
    "    for var in users:\n",
    "        print(\"Python users received from variable length argument:\",var)'''\n",
    "       \n",
    "    \n",
    "    \n",
    "#infouser(\"Shyam\") \n",
    "infouser(\"Ram\",\"Sita\",\"Laxman\",\"Hanuman\")\n"
   ]
  },
  {
   "cell_type": "code",
   "execution_count": 37,
   "metadata": {},
   "outputs": [
    {
     "name": "stdout",
     "output_type": "stream",
     "text": [
      "Name of the student: Saket\n",
      "Age of the student: 25\n",
      "First non-keyworded argument: ()\n",
      "First keyworded argument: {}\n",
      "\n",
      "\n",
      "Name of the student: Rakesh\n",
      "Age of the student: 24\n",
      "First non-keyworded argument: ('First class',)\n",
      "First keyworded argument: {'Branch': 'IT'}\n",
      "\n",
      "\n",
      "Name of the student: Somesh\n",
      "Age of the student: 20\n",
      "First non-keyworded argument: ('First class', 'Yavatmal', 'Maharashtra')\n",
      "First keyworded argument: {'clg_name': 'NIT', 'school_name': 'D.Y. Patil'}\n",
      "\n",
      "\n"
     ]
    }
   ],
   "source": [
    "def studinfo(name,age,*arg,**kwarg):\n",
    "    print(\"Name of the student:\",name)\n",
    "    print(\"Age of the student:\",age)\n",
    "    print(\"First non-keyworded argument:\",arg) #arguments passed to *arg is internally converted to tuple\n",
    "    print(\"First keyworded argument:\",kwarg)   #arguments passed to **kwarg is internally converted to dictionary\n",
    "    print(\"\\n\")\n",
    "    \n",
    "studinfo(\"Saket\",25)\n",
    "studinfo(\"Rakesh\",24,\"First class\", Branch = \"IT\")\n",
    "\n",
    "studinfo(\"Somesh\",20,\"First class\",\"Yavatmal\",\"Maharashtra\",clg_name = \"NIT\",school_name = \"D.Y. Patil\")"
   ]
  }
 ],
 "metadata": {
  "kernelspec": {
   "display_name": "Python 3",
   "language": "python",
   "name": "python3"
  },
  "language_info": {
   "codemirror_mode": {
    "name": "ipython",
    "version": 3
   },
   "file_extension": ".py",
   "mimetype": "text/x-python",
   "name": "python",
   "nbconvert_exporter": "python",
   "pygments_lexer": "ipython3",
   "version": "3.7.4"
  }
 },
 "nbformat": 4,
 "nbformat_minor": 2
}
